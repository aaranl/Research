{
 "cells": [
  {
   "cell_type": "code",
   "execution_count": 1,
   "metadata": {},
   "outputs": [],
   "source": [
    "import numpy as np\n",
    "from matplotlib import pyplot as plt\n",
    "import pandas as pd\n",
    "\n",
    "from sklearn.datasets import load_iris\n",
    "from scipy.cluster.hierarchy import fcluster, dendrogram"
   ]
  },
  {
   "cell_type": "code",
   "execution_count": null,
   "metadata": {},
   "outputs": [],
   "source": [
    "X1 = np.array([[1,1], [3,2], [9,1], [3,7], [7,2], [9,7], [4,8], [8,3],[1,4]])\n",
    "\n",
    "plt.figure(figsize=(6, 6))\n",
    "plt.scatter(X1[:,0], X1[:,1], c='r')\n",
    "\n",
    "for i in range(X1.shape[0]):\n",
    "    plt.annotate(str(i), xy=(X1[i,0], X1[i,1]), xytext=(3, 3), textcoords='offset points')\n",
    "    \n",
    "plt.xlabel('X coordinate')\n",
    "plt.ylabel('Y coordinate')\n",
    "plt.title('Scatter Plot of the data')\n",
    "plt.xlim([0,10])\n",
    "plt.ylim([0,10])\n",
    "plt.xticks(range(10))\n",
    "plt.yticks(range(10))\n",
    "plt.grid()\n",
    "\n",
    "plt.show()"
   ]
  },
  {
   "cell_type": "code",
   "execution_count": null,
   "metadata": {},
   "outputs": [],
   "source": [
    "from scipy.cluster.hierarchy import dendrogram, linkage\n",
    "\n",
    "Z1 = linkage(X1, method='single', metric='euclidean')\n",
    "Z2 = linkage(X1, method='complete', metric='euclidean')\n",
    "Z3 = linkage(X1, method='average', metric='euclidean')\n",
    "Z4 = linkage(X1, method='ward', metric='euclidean')\n",
    "plt.figure(figsize=(15, 10))\n",
    "plt.subplot(2,2,1), dendrogram(Z1), plt.title('Single')\n",
    "plt.subplot(2,2,2), dendrogram(Z2), plt.title('Complete')\n",
    "plt.subplot(2,2,3), dendrogram(Z3), plt.title('Average')\n",
    "plt.subplot(2,2,4), dendrogram(Z4), plt.title('Ward')\n",
    "plt.show()"
   ]
  },
  {
   "cell_type": "code",
   "execution_count": null,
   "metadata": {},
   "outputs": [],
   "source": [
    "iris = load_iris()\n",
    "X = iris.data\n",
    "y = iris.target"
   ]
  },
  {
   "cell_type": "code",
   "execution_count": null,
   "metadata": {},
   "outputs": [],
   "source": [
    "Z = linkage(X, method='ward')\n",
    "plt.figure(figsize=(10, 7))\n",
    "dendrogram(Z, labels=iris.target_names[y], leaf_rotation=90, leaf_font_size=10)\n",
    "plt.title(\"Dendrogram for Iris Dataset\")\n",
    "plt.xlabel(\"Species\")\n",
    "plt.ylabel(\"Euclidean Distance\")\n",
    "plt.show()"
   ]
  },
  {
   "cell_type": "code",
   "execution_count": null,
   "metadata": {},
   "outputs": [],
   "source": [
    "clusters = fcluster(Z, t=3, criterion='maxclust')\n",
    "plt.figure(figsize=(10, 7))\n",
    "dendrogram(Z, labels=iris.target_names[y], leaf_rotation=90, leaf_font_size=10, color_threshold=0.7*max(Z[:,2]))\n",
    "plt.title(\"Dendrogram for Iris Dataset with 3 Clusters\")\n",
    "plt.xlabel(\"Species\")\n",
    "plt.ylabel(\"Euclidean Distance\")\n",
    "plt.show()"
   ]
  },
  {
   "cell_type": "code",
   "execution_count": null,
   "metadata": {},
   "outputs": [],
   "source": [
    "from sklearn.decomposition import PCA\n",
    "\n",
    "pca = PCA(n_components=2)\n",
    "X_pca = pca.fit_transform(X)\n",
    "\n",
    "plt.figure(figsize=(10, 7))\n",
    "plt.scatter(X_pca[:, 0], X_pca[:, 1], c=clusters, cmap='viridis', marker='o', edgecolor='k')\n",
    "plt.title(\"Iris Dataset Clusters (Hierarchical Clustering)\")\n",
    "plt.xlabel(\"First Principal Component\")\n",
    "plt.ylabel(\"Second Principal Component\")\n",
    "plt.show()"
   ]
  }
 ],
 "metadata": {
  "kernelspec": {
   "display_name": "venv",
   "language": "python",
   "name": "python3"
  },
  "language_info": {
   "codemirror_mode": {
    "name": "ipython",
    "version": 3
   },
   "file_extension": ".py",
   "mimetype": "text/x-python",
   "name": "python",
   "nbconvert_exporter": "python",
   "pygments_lexer": "ipython3",
   "version": "3.11.9"
  }
 },
 "nbformat": 4,
 "nbformat_minor": 2
}
